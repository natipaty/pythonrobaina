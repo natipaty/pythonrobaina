{
 "cells": [
  {
   "cell_type": "markdown",
   "metadata": {},
   "source": [
    "# Numpy"
   ]
  },
  {
   "cell_type": "markdown",
   "metadata": {},
   "source": [
    "Criação de arrays"
   ]
  },
  {
   "cell_type": "code",
   "execution_count": 3,
   "metadata": {},
   "outputs": [
    {
     "name": "stdout",
     "output_type": "stream",
     "text": [
      "Zeros:\n",
      " [[0. 0. 0.]\n",
      " [0. 0. 0.]\n",
      " [0. 0. 0.]]\n",
      "Uns:\n",
      " [[1. 1. 1.]\n",
      " [1. 1. 1.]\n",
      " [1. 1. 1.]]\n",
      "Identidade:\n",
      " [[1. 0. 0.]\n",
      " [0. 1. 0.]\n",
      " [0. 0. 1.]]\n",
      "Sequência: [0 2 4 6 8]\n",
      "Espaçados igualmente: [0.   0.25 0.5  0.75 1.  ]\n",
      "Array randomico: [[ 1  6  8]\n",
      " [ 1  6  0]\n",
      " [ 9  6  2]\n",
      " [10  1  2]\n",
      " [ 4  5  9]]\n"
     ]
    }
   ],
   "source": [
    "import numpy as np\n",
    "\n",
    "zeros = np.zeros((3, 3))\n",
    "print(\"Zeros:\\n\", zeros)\n",
    "\n",
    "uns = np.ones((3, 3))\n",
    "print(\"Uns:\\n\", uns)\n",
    "\n",
    "\n",
    "identidade = np.eye(3)\n",
    "print(\"Identidade:\\n\", identidade)\n",
    "\n",
    "\n",
    "sequencia = np.arange(0, 10, 2)  # começa em 0, termina antes de 10, passo 2\n",
    "print(\"Sequência:\", sequencia)\n",
    "\n",
    "\n",
    "espacados = np.linspace(0, 1, 5)  # começa em 0, termina em 1, 5 elementos\n",
    "print(\"Espaçados igualmente:\", espacados)\n",
    "\n",
    "\n",
    "### atenção pois vamos precisar\n",
    "randomico = np.random.randint(0, 11, (5, 3)) # números entre 0 e 10 em um 5 x 3\n",
    "print(\"Array randomico:\", randomico)"
   ]
  },
  {
   "cell_type": "markdown",
   "metadata": {},
   "source": [
    "Operações Matemáticas"
   ]
  },
  {
   "cell_type": "code",
   "execution_count": null,
   "metadata": {},
   "outputs": [],
   "source": [
    "\n",
    "a = np.array([1, 2, 3, 4])\n",
    "\n",
    "\n",
    "print(\"Soma:\", np.sum(a))\n",
    "print(\"Produto:\", np.prod(a))\n",
    "print(\"Média:\", np.mean(a))\n",
    "print(\"Variância:\", np.var(a))\n",
    "print(\"Desvio padrão:\", np.std(a))\n",
    "\n",
    "\n",
    "### atenção pois vamos precisar em breve\n",
    "b = np.array([[1, 2, 3], [4, 5, 6]])\n",
    "print(\"Soma ao longo das linhas:\", np.sum(b, axis=1))\n",
    "\n",
    "\n",
    "print(\"Soma ao longo das colunas:\", np.sum(b, axis=0))"
   ]
  },
  {
   "cell_type": "markdown",
   "metadata": {},
   "source": [
    "# Exercício\n",
    "\n",
    "Você recebeu um conjunto de dados contendo as notas de 40 alunos em três disciplinas: Matemática, Ciências e História. Seu objetivo é realizar uma análise estatística e algumas transformações nos dados.\n",
    "\n",
    "Dados:\n",
    "Crie um array de dimensões 40x3 com números aleatórios entre 0 e 10 usando o módulo numpy.random. Cada linha do array representa um aluno, e as colunas representam suas notas em Matemática, Ciências e História, respectivamente.\n",
    "\n",
    "Tarefas:\n",
    "\n",
    "a) Calcule e imprima a média e o desvio padrão das notas de cada disciplina.\n",
    "\n",
    "b) Determine e imprima o número de alunos que tiveram notas acima da média em todas as três disciplinas.\n",
    "\n",
    "c) Calcule e imprima a nota mais alta e a nota mais baixa de cada disciplina.\n",
    "\n",
    "d) Normalize as notas de modo que elas estejam no intervalo [0, 1]. A normalização é feita pela fórmula: \n",
    "\n",
    "nota_normalizada = (nota − nota_min) / ( nota_max − nota_min)\n",
    "\n",
    "​\n",
    "Determine e imprima o número de alunos que tiveram notas (após a normalização) abaixo de 0,5 em qualquer uma das disciplinas.\n",
    "\n",
    "\n",
    "Dicas:\n",
    "\n",
    "Utilize a funcionalidade numpy.random.randint ou numpy.random.rand para criar o array de notas.\n",
    "Use funções como np.mean(), np.std(), np.min(), e np.max() para cálculos estatísticos.\n",
    "Para contar alunos com base em certos critérios, você pode usar comparações booleanas e a função np.sum()."
   ]
  },
  {
   "cell_type": "code",
   "execution_count": null,
   "metadata": {},
   "outputs": [],
   "source": [
    "# Proposta do Maxim\n",
    "\n",
    "np.random.seed(123)\n",
    "\n",
    "notas = np.random.randint(0, 10, (40, 3)) # notas\n",
    "\n",
    "\n",
    "media = np.mean(notas, axis = 0) \n",
    "print(media) # medias\n",
    "std_dev = np.std(notas, axis=0)\n",
    "print(std_dev) # sd\n",
    "\n",
    "# varrer para garantir que está maior nas três! \n",
    "# for i in range(3) :\n",
    "#      print(np.sum(notas[:, i] > media[i])) # varrendo o array todo\n",
    "\n",
    "\n",
    "alunos_acima_media = np.sum(np.all(notas > media, axis=1))\n",
    "print(f\"Alunos com notas acima da média em todas as disciplinas: {alunos_acima_media}\")\n",
    "\n",
    "max = np.max(notas, axis = 0)\n",
    "print(max) # max\n",
    "min = np.min(notas, axis = 0)\n",
    "print(min) # min\n",
    "\n",
    "normal = (notas - min) / (max - min)\n",
    "# print(normal)\n",
    "print(np.sum(np.any(normal < 0.5, axis=1)))"
   ]
  },
  {
   "cell_type": "markdown",
   "metadata": {},
   "source": [
    "# PANDAS"
   ]
  },
  {
   "cell_type": "markdown",
   "metadata": {},
   "source": [
    "Biblioteca amplamente usada para análise de dados. Ele fornece estruturas de dados flexíveis e permite trabalhar facilmente com dados estruturados, como tabelas. As principais características e funcionalidades do pandas incluem:\n",
    "\n",
    "DataFrame: Uma estrutura bidimensional, semelhante a uma tabela de banco de dados ou uma planilha do Excel. Ela permite armazenar e manipular dados tabulares (com linhas e colunas).\n",
    "\n",
    "Series: Uma estrutura unidimensional, similar a um vetor ou uma lista. É, essencialmente, uma coluna de um DataFrame.\n",
    "\n",
    "Manipulação de dados: O pandas fornece funções para limpar, transformar, agregar e visualizar dados. Por exemplo, você pode facilmente filtrar linhas, ordenar dados, preencher valores ausentes, entre outros.\n",
    "\n",
    "Leitura e gravação de dados: Com o pandas, é possível ler e gravar dados em vários formatos, como CSV, Excel, SQL e muitos outros.\n",
    "\n",
    "Integração com outras bibliotecas: O pandas se integra bem com muitas outras bibliotecas populares de Python, como numpy, scipy, matplotlib e scikit-learn.\n",
    "\n",
    "Manipulação de datas e séries temporais: O pandas possui funcionalidades robustas para trabalhar com datas, horas e séries temporais.\n",
    "\n",
    "Performance: Embora seja uma biblioteca de alto nível, o pandas é otimizado para desempenho em muitas operações, tornando-o eficiente para conjuntos de dados grandes."
   ]
  },
  {
   "cell_type": "markdown",
   "metadata": {},
   "source": [
    "Criação e exibição de um DataFrame"
   ]
  },
  {
   "cell_type": "code",
   "execution_count": 5,
   "metadata": {},
   "outputs": [
    {
     "name": "stdout",
     "output_type": "stream",
     "text": [
      "    Nomes  Idade          Cidade\n",
      "0     Ana     25  Rio de Janeiro\n",
      "1   Bruno     30       São Paulo\n",
      "2  Carlos     35  Belo Horizonte\n"
     ]
    }
   ],
   "source": [
    "import pandas as pd\n",
    "\n",
    "data = {\n",
    "    'Nomes': ['Ana', 'Bruno', 'Carlos'],\n",
    "    'Idade': [25, 30, 35],\n",
    "    'Cidade': ['Rio de Janeiro', 'São Paulo', 'Belo Horizonte']\n",
    "}\n",
    "df = pd.DataFrame(data)\n",
    "\n",
    "print(df)\n"
   ]
  },
  {
   "cell_type": "markdown",
   "metadata": {},
   "source": [
    "Filtro de dados:"
   ]
  },
  {
   "cell_type": "code",
   "execution_count": null,
   "metadata": {},
   "outputs": [],
   "source": [
    "\n",
    "filtro = df[df['Idade'] > 28] ## lógica\n",
    "print(filtro)"
   ]
  },
  {
   "cell_type": "markdown",
   "metadata": {},
   "source": [
    "Estatísticas básicas:"
   ]
  },
  {
   "cell_type": "code",
   "execution_count": null,
   "metadata": {},
   "outputs": [],
   "source": [
    "\n",
    "print(df.describe())\n"
   ]
  },
  {
   "cell_type": "markdown",
   "metadata": {},
   "source": [
    "Aplicando uma função a uma coluna:"
   ]
  },
  {
   "cell_type": "code",
   "execution_count": null,
   "metadata": {},
   "outputs": [],
   "source": [
    "\n",
    "df['Idade_ao_quadrado'] = df['Idade'].apply(lambda x: x**2) # função sem nome\n",
    "print(df)\n"
   ]
  },
  {
   "cell_type": "markdown",
   "metadata": {},
   "source": [
    "Tratando dados ausentes:"
   ]
  },
  {
   "cell_type": "code",
   "execution_count": null,
   "metadata": {},
   "outputs": [],
   "source": [
    "\n",
    "df.fillna(0, inplace=True) # NA/NaN troca 0\n"
   ]
  },
  {
   "cell_type": "markdown",
   "metadata": {},
   "source": [
    "Grouping"
   ]
  },
  {
   "cell_type": "code",
   "execution_count": null,
   "metadata": {},
   "outputs": [],
   "source": [
    "\n",
    "data = {\n",
    "    'Cidade': ['São Paulo', 'São Paulo', 'Rio de Janeiro', 'Rio de Janeiro', 'Belo Horizonte', 'Belo Horizonte'],\n",
    "    'Produto': ['A', 'B', 'A', 'A', 'B', 'B'],\n",
    "    'Vendas': [100, 150, 200, 250, 300, 350]\n",
    "}\n",
    "df = pd.DataFrame(data)\n",
    "print(df)\n",
    "\n",
    "# agrupando por cidade\n",
    "vendas_cidade = df.groupby('Cidade').sum()\n",
    "print(vendas_cidade)\n"
   ]
  },
  {
   "cell_type": "markdown",
   "metadata": {},
   "source": [
    "Agrupamento por Cidade e Produto:"
   ]
  },
  {
   "cell_type": "code",
   "execution_count": null,
   "metadata": {},
   "outputs": [],
   "source": [
    "cidade_produto = df.groupby(['Cidade', 'Produto']).sum()\n",
    "print(cidade_produto)\n"
   ]
  },
  {
   "cell_type": "markdown",
   "metadata": {},
   "source": [
    "Estatísticas básicas dos grupos:"
   ]
  },
  {
   "cell_type": "code",
   "execution_count": null,
   "metadata": {},
   "outputs": [],
   "source": [
    "consolida_cidades = df.groupby('Cidade').describe()\n",
    "print(consolida_cidades)\n"
   ]
  },
  {
   "cell_type": "markdown",
   "metadata": {},
   "source": [
    "# Merge"
   ]
  },
  {
   "cell_type": "code",
   "execution_count": null,
   "metadata": {},
   "outputs": [],
   "source": [
    "\n",
    "data1 = {\n",
    "    'ID': [1, 2, 3, 4],\n",
    "    'Nome': ['Ana', 'Bruno', 'Carlos', 'Diana']\n",
    "}\n",
    "df1 = pd.DataFrame(data1)\n",
    "\n",
    "# Segundo DataFrame\n",
    "data2 = {\n",
    "    'ID': [3, 4, 5, 6],\n",
    "    'Idade': [25, 30, 35, 40]\n",
    "}\n",
    "df2 = pd.DataFrame(data2)\n",
    "\n",
    "print(\"DataFrame 1:\")\n",
    "print(df1)\n",
    "print(\"\\nDataFrame 2:\")\n",
    "print(df2)\n"
   ]
  },
  {
   "cell_type": "code",
   "execution_count": null,
   "metadata": {},
   "outputs": [],
   "source": [
    "full_join = pd.merge(df1, df2, on='ID', how='outer')\n",
    "print(\"\\nFull Join:\")\n",
    "print(full_join)\n"
   ]
  },
  {
   "cell_type": "code",
   "execution_count": null,
   "metadata": {},
   "outputs": [],
   "source": [
    "left_join = pd.merge(df1, df2, on='ID', how='left')\n",
    "print(\"\\nLeft Join:\")\n",
    "print(left_join)\n"
   ]
  },
  {
   "cell_type": "code",
   "execution_count": null,
   "metadata": {},
   "outputs": [],
   "source": [
    "right_join = pd.merge(df1, df2, on='ID', how='right')\n",
    "print(\"\\nRight Join:\")\n",
    "print(right_join)\n"
   ]
  },
  {
   "cell_type": "markdown",
   "metadata": {},
   "source": [
    "# Exercício\n",
    "\n",
    "Imagine que você é um analista de dados em uma grande rede de lojas. Você recebeu dois conjuntos de dados:\n",
    "\n",
    "Um contém informações sobre os produtos (ID do produto, nome do produto e categoria).\n",
    "O outro contém informações de vendas (ID do produto, quantidade vendida e preço por unidade).\n",
    "Seu objetivo é combinar esses dois conjuntos de dados para obter um relatório completo que mostre o nome, categoria, quantidade vendida e receita total (quantidade vendida * preço por unidade) de cada produto."
   ]
  },
  {
   "cell_type": "code",
   "execution_count": 6,
   "metadata": {},
   "outputs": [],
   "source": [
    "\n",
    "produtos = {\n",
    "    'ID_produto': [101, 102, 103, 104],\n",
    "    'Nome_produto': ['Camiseta', 'Calça', 'Tênis', 'Chapéu'],\n",
    "    'Categoria': ['Vestuário', 'Vestuário', 'Calçado', 'Acessório']\n",
    "}\n",
    "df_produtos = pd.DataFrame(produtos)\n",
    "\n",
    "\n",
    "vendas = {\n",
    "    'ID_produto': [101, 103, 104, 105],\n",
    "    'Quantidade_vendida': [100, 150, 50, 60],\n",
    "    'Preco_por_unidade': [20, 75, 30, 10]\n",
    "}\n",
    "df_vendas = pd.DataFrame(vendas)\n"
   ]
  },
  {
   "cell_type": "markdown",
   "metadata": {},
   "source": [
    "Tarefa:\n",
    "\n",
    "Use a função merge() para combinar os dois DataFrames com base no ID_produto.\n",
    "\n",
    "Crie uma nova coluna chamada \"Receita\" que será o produto da \"Quantidade_vendida\" pelo \"Preco_por_unidade\".\n",
    "\n",
    "Exiba o resultado final contendo 'Nome_produto', 'Categoria', 'Quantidade_vendida' e 'Receita'."
   ]
  },
  {
   "cell_type": "code",
   "execution_count": 9,
   "metadata": {},
   "outputs": [
    {
     "name": "stdout",
     "output_type": "stream",
     "text": [
      "  Nome_produto  Categoria  Quantidade_vendida  Receita\n",
      "0     Camiseta  Vestuário               100.0   2000.0\n",
      "1        Calça  Vestuário                 NaN      NaN\n",
      "2        Tênis    Calçado               150.0  11250.0\n",
      "3       Chapéu  Acessório                50.0   1500.0\n",
      "4          NaN        NaN                60.0    600.0\n"
     ]
    }
   ],
   "source": [
    "df_merge = pd.merge(df_produtos, df_vendas, on='ID_produto', how='outer')\n",
    "\n",
    "\n",
    "df_merge['Receita'] = df_merge['Quantidade_vendida'] * df_merge['Preco_por_unidade']\n",
    "\n",
    "print(df_merge[['Nome_produto', 'Categoria', 'Quantidade_vendida', 'Receita']])"
   ]
  }
 ],
 "metadata": {
  "kernelspec": {
   "display_name": "Python 3",
   "language": "python",
   "name": "python3"
  },
  "language_info": {
   "codemirror_mode": {
    "name": "ipython",
    "version": 3
   },
   "file_extension": ".py",
   "mimetype": "text/x-python",
   "name": "python",
   "nbconvert_exporter": "python",
   "pygments_lexer": "ipython3",
   "version": "3.11.4"
  },
  "orig_nbformat": 4
 },
 "nbformat": 4,
 "nbformat_minor": 2
}
